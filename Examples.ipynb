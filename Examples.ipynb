{
 "cells": [
  {
   "cell_type": "code",
   "execution_count": null,
   "metadata": {},
   "outputs": [],
   "source": [
    "%matplotlib inline\n",
    "\n",
    "import pandas as pd\n",
    "import seaborn as sns\n",
    "import matplotlib.pyplot as plt\n",
    "from plotnine import *\n",
    "import numpy as np\n",
    "\n",
    "import plotly.figure_factory as FF\n",
    "import plotly.graph_objects as go\n",
    "\n",
    "from IPython.display import Image\n",
    "\n",
    "%load_ext rpy2.ipython\n",
    "\n",
    "from pylab import rcParams\n",
    "size = 20\n",
    "params = {'legend.fontsize': size,\n",
    "          'figure.figsize': (15, 5),\n",
    "         'axes.labelsize': size, \n",
    "         'axes.titlesize':size, \n",
    "         'xtick.labelsize':size, \n",
    "         'ytick.labelsize':size, \n",
    "          'axes.titlesize':1.5*size, \n",
    "         'figure.figsize': (12, 12)}\n",
    "rcParams.update(params)\n",
    "theme_update(figure_size=(9, 9), title=element_text(size=size), text=element_text(size=.6*size)) # for plotnine"
   ]
  },
  {
   "cell_type": "code",
   "execution_count": null,
   "metadata": {},
   "outputs": [],
   "source": [
    "%%R\n",
    "install.packages(\"ggplot2\", repos='http://cran.us.r-project.org')\n",
    "library(ggplot2) \n",
    "theme_set(theme_grey(base_size = 24))"
   ]
  },
  {
   "cell_type": "markdown",
   "metadata": {},
   "source": [
    "Outline\n",
    "\n",
    "* Plots \n",
    "    * Bar \n",
    "    * Histogram\n",
    "    * Scatter \n",
    "    * Box and whisker\n",
    "    * Line \n",
    "        * Time series\n",
    "* Extensions\n",
    "    * Faceting on categorical\n",
    "    * Stacked bar/histogram\n",
    "    * Line over scatter\n",
    "    * Multi color/symbol scatter\n",
    "    * Multiple line plots\n",
    "* Modifications\n",
    "    * Log scaled axes\n",
    "    * Time labeled axes\n",
    "    * Histogram bin-width\n",
    "    * Aspect ratio\n",
    "    * Axis boundaries\n"
   ]
  },
  {
   "cell_type": "markdown",
   "metadata": {},
   "source": [
    "## Load Data"
   ]
  },
  {
   "cell_type": "markdown",
   "metadata": {},
   "source": [
    "Data is from [ggplot2](http://ggplot2.tidyverse.org/reference/mpg.html).\n",
    "\n",
    "Many ggplot examples taken from [R for data science](http://r4ds.had.co.nz/visualize.html) by Garrett Grolemund and Hadley Wickham."
   ]
  },
  {
   "cell_type": "code",
   "execution_count": null,
   "metadata": {},
   "outputs": [],
   "source": [
    "%%R\n",
    "summary(mpg)"
   ]
  },
  {
   "cell_type": "code",
   "execution_count": null,
   "metadata": {},
   "outputs": [],
   "source": [
    "mpg = pd.read_csv('https://raw.githubusercontent.com/tidyverse/ggplot2/master/data-raw/mpg.csv')\n",
    "diamonds = pd.read_csv('https://raw.githubusercontent.com/tidyverse/ggplot2/master/data-raw/diamonds.csv')\n",
    "\n",
    "ts = (pd\n",
    "      .Series(np.random.randn(1000), \n",
    "              index=pd.date_range('1/1/2000', periods=1000))\n",
    "      .cumsum()\n",
    "      .to_frame()\n",
    "      .reset_index()\n",
    "     )\n",
    "ts.columns = ['date', 'value']"
   ]
  },
  {
   "cell_type": "code",
   "execution_count": null,
   "metadata": {
    "tags": [
     "data",
     "name:ts"
    ]
   },
   "outputs": [],
   "source": [
    "from IPython.display import display, HTML\n",
    "display(HTML(ts.head(5).to_html(index=False)))"
   ]
  },
  {
   "cell_type": "code",
   "execution_count": null,
   "metadata": {
    "tags": [
     "data",
     "name:mpg"
    ]
   },
   "outputs": [],
   "source": [
    "from IPython.display import display, HTML\n",
    "display(HTML(mpg.head(5).to_html(index=False)))"
   ]
  },
  {
   "cell_type": "code",
   "execution_count": null,
   "metadata": {
    "tags": [
     "data",
     "name:diamonds"
    ]
   },
   "outputs": [],
   "source": [
    "from IPython.display import display, HTML\n",
    "display(HTML(diamonds.head(5).to_html(index=False)))"
   ]
  },
  {
   "cell_type": "markdown",
   "metadata": {},
   "source": [
    "## Plots"
   ]
  },
  {
   "cell_type": "markdown",
   "metadata": {},
   "source": [
    "### Basic Plots"
   ]
  },
  {
   "cell_type": "markdown",
   "metadata": {},
   "source": [
    "#### Bar Charts of Counts"
   ]
  },
  {
   "cell_type": "code",
   "execution_count": null,
   "metadata": {
    "tags": [
     "ex",
     "name:bar-counts",
     "package:ggplot"
    ]
   },
   "outputs": [],
   "source": [
    "%%R -w 10 -h 10 -u in\n",
    "ggplot(data=mpg) + \n",
    "    aes(x=manufacturer) + \n",
    "    geom_bar() + \n",
    "    coord_flip() +\n",
    "    ggtitle(\"Number of Cars by Make\")"
   ]
  },
  {
   "cell_type": "code",
   "execution_count": null,
   "metadata": {
    "tags": [
     "ex",
     "name:bar-counts",
     "package:pandas"
    ]
   },
   "outputs": [],
   "source": [
    "(mpg['manufacturer']\n",
    " .value_counts(sort=False)\n",
    " .plot.barh()\n",
    " .set_title('Number of Cars by Make')\n",
    ");"
   ]
  },
  {
   "cell_type": "code",
   "execution_count": null,
   "metadata": {
    "scrolled": false,
    "tags": [
     "ex",
     "name:bar-counts",
     "package:plotnine"
    ]
   },
   "outputs": [],
   "source": [
    "\"\"\"plotnine gives an error on `ggplot(data=mpg)`.\n",
    "\"\"\"\n",
    "(ggplot(mpg) + \n",
    "   aes(x=\"manufacturer\") +\n",
    "   geom_bar(size=20) + \n",
    "   coord_flip() +\n",
    "   ggtitle(\"Number of Cars by Make\")\n",
    ")"
   ]
  },
  {
   "cell_type": "code",
   "execution_count": null,
   "metadata": {
    "tags": [
     "ex",
     "name:bar-counts",
     "package:plotly"
    ]
   },
   "outputs": [],
   "source": [
    "mpgGrouped = mpg.groupby('manufacturer').size()\n",
    "fig = go.Figure(layout={'title' : 'Number of Cars by Make'})\n",
    "bar = go.Bar({\n",
    "        'type' : 'bar',\n",
    "        'x' : mpgGrouped.values.tolist(),\n",
    "        'y' : mpgGrouped.index.tolist(),\n",
    "        'orientation' : 'h'\n",
    "        \n",
    "    })\n",
    "fig.add_trace(bar)\n",
    "fig.show(renderer='png')"
   ]
  },
  {
   "cell_type": "markdown",
   "metadata": {},
   "source": [
    "#### Histogram of Continuous Values"
   ]
  },
  {
   "cell_type": "code",
   "execution_count": null,
   "metadata": {
    "tags": [
     "ex",
     "name:simple-histogram",
     "package:ggplot"
    ]
   },
   "outputs": [],
   "source": [
    "%%R -w 10 -h 10 -u in\n",
    "ggplot(data=mpg) + \n",
    "    aes(x=cty) + \n",
    "    geom_histogram(binwidth=2)"
   ]
  },
  {
   "cell_type": "code",
   "execution_count": null,
   "metadata": {
    "tags": [
     "ex",
     "name:simple-histogram",
     "package:matplotlib"
    ]
   },
   "outputs": [],
   "source": [
    "plt.hist('cty', bins=12, data=mpg);"
   ]
  },
  {
   "cell_type": "code",
   "execution_count": null,
   "metadata": {
    "scrolled": false,
    "tags": [
     "ex",
     "name:simple-histogram",
     "package:pandas"
    ]
   },
   "outputs": [],
   "source": [
    "(mpg['cty']\n",
    " .plot\n",
    " .hist(bins=12));"
   ]
  },
  {
   "cell_type": "code",
   "execution_count": null,
   "metadata": {
    "tags": [
     "ex",
     "name:simple-histogram",
     "package:plotnine"
    ]
   },
   "outputs": [],
   "source": [
    "(ggplot(mpg) + \n",
    "    aes(x=\"cty\") +\n",
    "    geom_histogram(binwidth=2))"
   ]
  },
  {
   "cell_type": "code",
   "execution_count": null,
   "metadata": {
    "scrolled": false,
    "tags": [
     "ex",
     "name:simple-histogram",
     "package:plotly"
    ]
   },
   "outputs": [],
   "source": [
    "fig = go.Figure()\n",
    "hist = go.Histogram({\n",
    "        'type' : 'histogram',\n",
    "        'x' : mpg['cty'],\n",
    "})\n",
    "fig.add_trace(hist)\n",
    "fig.show(renderer='png')"
   ]
  },
  {
   "cell_type": "markdown",
   "metadata": {},
   "source": [
    "#### Scatter Plot"
   ]
  },
  {
   "cell_type": "code",
   "execution_count": null,
   "metadata": {
    "tags": [
     "ex",
     "name:scatter-plot",
     "package:ggplot"
    ]
   },
   "outputs": [],
   "source": [
    "%%R -w 10 -h 10 -u in \n",
    "ggplot(data = mpg) +\n",
    "    aes(x = displ, y = hwy) +\n",
    "    geom_point() + \n",
    "    ggtitle(\"Engine Displacement in Liters vs Highway MPG\") +\n",
    "    xlab(\"Engine Displacement in Liters\") +\n",
    "    ylab(\"Highway MPG\")"
   ]
  },
  {
   "cell_type": "code",
   "execution_count": null,
   "metadata": {
    "tags": [
     "ex",
     "name:scatter-plot",
     "package:pandas"
    ]
   },
   "outputs": [],
   "source": [
    "(mpg\n",
    " .plot\n",
    " .scatter(x='displ', y='hwy')\n",
    " .set(title='Engine Displacement in Liters vs Highway MPG',\n",
    "      xlabel='Engine Displacement in Liters',\n",
    "      ylabel='Highway MPG'))"
   ]
  },
  {
   "cell_type": "code",
   "execution_count": null,
   "metadata": {
    "tags": [
     "ex",
     "name:scatter-plot",
     "package:plotnine"
    ]
   },
   "outputs": [],
   "source": [
    "(ggplot(mpg) +\n",
    "    aes(x = \"displ\", y = \"hwy\") +\n",
    "    geom_point() + \n",
    "    ggtitle(\"Engine Displacement in Liters vs Highway MPG\") +\n",
    "    xlab(\"Engine Displacement in Liters\") +\n",
    "    ylab(\"Highway MPG\"))"
   ]
  },
  {
   "cell_type": "code",
   "execution_count": null,
   "metadata": {
    "tags": [
     "ex",
     "name:scatter-plot",
     "package:plotly"
    ]
   },
   "outputs": [],
   "source": [
    "fig = go.Figure(layout={\n",
    "    'title' : 'Engine Displacement in Liters vs Highway MPG',\n",
    "    'xaxis' : {\n",
    "        'title' : 'Engine Displacement in Liters'\n",
    "    },\n",
    "    'yaxis' : {\n",
    "        'title' : 'Highway MPG'\n",
    "    }\n",
    "})\n",
    "scatter = go.Scatter({\n",
    "    'type' : 'scatter',\n",
    "    'mode' : 'markers',\n",
    "    'x' : mpg.displ,\n",
    "    'y' : mpg.hwy        \n",
    "})\n",
    "fig.add_trace(scatter)\n",
    "fig.show(renderer=\"png\")"
   ]
  },
  {
   "cell_type": "markdown",
   "metadata": {},
   "source": [
    "### Advanced Scatter Plotting"
   ]
  },
  {
   "cell_type": "code",
   "execution_count": null,
   "metadata": {
    "tags": [
     "ex",
     "name:scatter-with-regression",
     "package:ggplot"
    ]
   },
   "outputs": [],
   "source": [
    "%%R -w 10 -h 10 -u in \n",
    "ggplot(data = mpg) +\n",
    "    aes(x = displ, y = hwy) +\n",
    "    geom_point() +\n",
    "    geom_smooth(method=lm)"
   ]
  },
  {
   "cell_type": "code",
   "execution_count": null,
   "metadata": {
    "tags": [
     "ex",
     "name:scatter-with-regression",
     "package:plotnine"
    ]
   },
   "outputs": [],
   "source": [
    "(ggplot(mpg) +\n",
    "    aes(\"displ\", \"hwy\") +\n",
    "    geom_point() +\n",
    "    geom_smooth(method=\"lm\"))"
   ]
  },
  {
   "cell_type": "code",
   "execution_count": null,
   "metadata": {
    "tags": [
     "ex",
     "name:scatter-with-regression",
     "package:seaborn"
    ]
   },
   "outputs": [],
   "source": [
    "sns.lmplot(x=\"displ\", y=\"hwy\", \n",
    "           data=mpg, size=12)"
   ]
  },
  {
   "cell_type": "code",
   "execution_count": null,
   "metadata": {
    "tags": [
     "ex",
     "name:scatter-with-regression",
     "package:plotly"
    ]
   },
   "outputs": [],
   "source": [
    "'''No built in method to calculate and display confidence intervals.\n",
    "Must calculate manually and utilise existing features to build the confidence band.'''\n",
    "import statsmodels.api as sm\n",
    "from statsmodels.stats.outliers_influence import summary_table\n",
    "\n",
    "y=mpg.hwy\n",
    "x=mpg.displ\n",
    "X = sm.add_constant(x)\n",
    "res = sm.OLS(y, X).fit()\n",
    "\n",
    "st, data, ss2 = summary_table(res, alpha=0.05)\n",
    "preds = pd.DataFrame.from_records(data, columns=[s.replace('\\n', ' ') for s in ss2])\n",
    "preds['displ'] = mpg.displ\n",
    "preds = preds.sort_values(by='displ')\n",
    "\n",
    "fig = go.Figure(layout={\n",
    "    'title' : 'Engine Displacement in Liters vs Highway MPG',\n",
    "    'xaxis' : {\n",
    "        'title' : 'Engine Displacement in Liters'\n",
    "    },\n",
    "    'yaxis' : {\n",
    "        'title' : 'Highway MPG'\n",
    "    }\n",
    "})\n",
    "p1 = go.Scatter(**{\n",
    "    'mode' : 'markers',\n",
    "    'x' : mpg.displ,\n",
    "    'y' : mpg.hwy,\n",
    "    'name' : 'Points'\n",
    "})\n",
    "p2 = go.Scatter({\n",
    "    'mode' : 'lines',\n",
    "    'x' : preds['displ'],\n",
    "    'y' : preds['Predicted Value'],\n",
    "    'name' : 'Regression',\n",
    "})\n",
    "#Add a lower bound for the confidence interval, white\n",
    "p3 = go.Scatter({\n",
    "    'mode' : 'lines',\n",
    "    'x' : preds['displ'],\n",
    "    'y' : preds['Mean ci 95% low'],\n",
    "    'name' : 'Lower 95% CI',\n",
    "    'showlegend' : False,\n",
    "    'line' : {\n",
    "        'color' : 'white'\n",
    "    }\n",
    "})\n",
    "# Upper bound for the confidence band, transparent but with fill\n",
    "p4 = go.Scatter( {\n",
    "    'type' : 'scatter',\n",
    "    'mode' : 'lines',\n",
    "    'x' : preds['displ'],\n",
    "    'y' : preds['Mean ci 95% upp'],\n",
    "    'name' : '95% CI',\n",
    "    'fill' : 'tonexty',\n",
    "    'line' : {\n",
    "        'color' : 'white'\n",
    "    },\n",
    "    'fillcolor' : 'rgba(255, 127, 14, 0.3)'\n",
    "})\n",
    "fig.add_trace(p1)\n",
    "fig.add_trace(p2)\n",
    "fig.add_trace(p3)\n",
    "fig.add_trace(p4)\n",
    "fig.show(renderer=\"png\")"
   ]
  },
  {
   "cell_type": "markdown",
   "metadata": {},
   "source": [
    "#### Scatter Plot with Colors"
   ]
  },
  {
   "cell_type": "code",
   "execution_count": null,
   "metadata": {
    "tags": [
     "ex",
     "name:scatter-plot-with-colors",
     "package:ggplot"
    ]
   },
   "outputs": [],
   "source": [
    "%%R -w 10 -h 10 -u in\n",
    "ggplot(data = mpg) + \n",
    "    aes(x = displ, y = hwy, color = class) +\n",
    "    geom_point() + \n",
    "    ggtitle(\"Engine Displacement in Liters vs Highway MPG\") +\n",
    "    xlab(\"Engine Displacement in Liters\") +\n",
    "    ylab(\"Highway MPG\")"
   ]
  },
  {
   "cell_type": "code",
   "execution_count": null,
   "metadata": {
    "scrolled": false,
    "tags": [
     "ex",
     "name:scatter-plot-with-colors",
     "package:matplotlib"
    ]
   },
   "outputs": [],
   "source": [
    "fig, ax = plt.subplots()\n",
    "for c, df in mpg.groupby('class'):\n",
    "    ax.scatter(df['displ'], df['hwy'], label=c)\n",
    "ax.legend()\n",
    "ax.set_title('Engine Displacement in Liters vs Highway MPG')\n",
    "ax.set_xlabel('Engine Displacement in Liters')\n",
    "ax.set_ylabel('Highway MPG');"
   ]
  },
  {
   "cell_type": "code",
   "execution_count": null,
   "metadata": {
    "tags": [
     "ex",
     "name:scatter-plot-with-colors",
     "package:seaborn"
    ]
   },
   "outputs": [],
   "source": [
    "\"\"\"seaborn.FacetGrid overrides the `rcParams['figure.figsize'] global parameter. \n",
    "You have to set the size in the size with `size=` in `FacetGrid`\"\"\"\n",
    "(sns\n",
    " .FacetGrid(mpg, hue=\"class\", size=10)\n",
    " .map(plt.scatter, \"displ\", \"hwy\")\n",
    " .add_legend()\n",
    " .set(\n",
    "    title=\"Engine Displacement in Liters vs Highway MPG\",\n",
    "    xlabel=\"Engine Displacement in Liters\",\n",
    "    ylabel=\"Highway MPG\"\n",
    "));"
   ]
  },
  {
   "cell_type": "code",
   "execution_count": null,
   "metadata": {
    "tags": [
     "ex",
     "name:scatter-plot-with-colors",
     "package:plotnine"
    ]
   },
   "outputs": [],
   "source": [
    "(ggplot(mpg) + \n",
    "    aes(x = \"displ\", y = \"hwy\", color = \"class\") +\n",
    "    geom_point() + \n",
    "    ggtitle(\"Engine Displacement in Liters vs Highway MPG\") +\n",
    "    xlab(\"Engine Displacement in Liters\") +\n",
    "    ylab(\"Highway MPG\"))"
   ]
  },
  {
   "cell_type": "code",
   "execution_count": null,
   "metadata": {
    "tags": [
     "ex",
     "name:scatter-plot-with-colors",
     "package:plotly"
    ]
   },
   "outputs": [],
   "source": [
    "traces = []\n",
    "for cls in mpg[\"class\"].unique():\n",
    "    traces.append(\n",
    "        go.Scatter(\n",
    "            {\n",
    "                \"mode\": \"markers\",\n",
    "                \"x\": mpg.displ[mpg[\"class\"] == cls],\n",
    "                \"y\": mpg.hwy[mpg[\"class\"] == cls],\n",
    "                \"name\": cls,\n",
    "            }\n",
    "        )\n",
    "    )\n",
    "fig = go.Figure(\n",
    "    layout={\n",
    "        \"title\": \"Engine Displacement in Liters vs Highway MPG\",\n",
    "        \"xaxis\": {\"title\": \"Engine Displacement in Liters\",},\n",
    "        \"yaxis\": {\"title\": \"Highway MPG\"},\n",
    "    },\n",
    "    data=traces,\n",
    ")\n",
    "fig.show(renderer=\"png\")"
   ]
  },
  {
   "cell_type": "markdown",
   "metadata": {},
   "source": [
    "#### Scatter Plot with Sizes and Transparency"
   ]
  },
  {
   "cell_type": "code",
   "execution_count": null,
   "metadata": {
    "tags": [
     "ex",
     "name:scatter-plot-with-size",
     "package:ggplot"
    ]
   },
   "outputs": [],
   "source": [
    "%%R -w 10 -h 10 -u in\n",
    "ggplot(data = mpg) +\n",
    "    aes(x = cty, y = hwy, size = cyl) +\n",
    "    geom_point(alpha=.5)"
   ]
  },
  {
   "cell_type": "code",
   "execution_count": null,
   "metadata": {
    "scrolled": false,
    "tags": [
     "ex",
     "name:scatter-plot-with-size",
     "package:pandas"
    ]
   },
   "outputs": [],
   "source": [
    "ax = (mpg\n",
    "    .plot\n",
    "    .scatter(x='cty', \n",
    "             y='hwy', \n",
    "             s=10*mpg['cyl'],\n",
    "             alpha=.5))\n",
    "ax.set_title('Engine Displacement in Liters vs Highway MPG')\n",
    "ax.set_xlabel('Engine Displacement in Liters')\n",
    "ax.set_ylabel('Highway MPG');"
   ]
  },
  {
   "cell_type": "code",
   "execution_count": null,
   "metadata": {
    "tags": [
     "ex",
     "name:scatter-plot-with-size",
     "package:plotnine"
    ]
   },
   "outputs": [],
   "source": [
    "(ggplot(mpg) +\n",
    "    aes(x=\"cty\", y=\"hwy\", size=\"cyl\") +\n",
    "    geom_point(alpha=.5))"
   ]
  },
  {
   "cell_type": "code",
   "execution_count": null,
   "metadata": {
    "tags": [
     "ex",
     "name:scatter-plot-with-size",
     "package:plotly"
    ]
   },
   "outputs": [],
   "source": [
    "traces = [\n",
    "    go.Scatter(\n",
    "        {\n",
    "            \"mode\": \"markers\",\n",
    "            \"x\": mpg.cty,\n",
    "            \"y\": mpg.hwy,\n",
    "            \"marker\": {\"size\": mpg.cyl, \"color\": \"rgba(54,54,54,0.5)\"},\n",
    "            \"name\": cls,\n",
    "        }\n",
    "    )\n",
    "]\n",
    "\n",
    "fig = go.Figure(\n",
    "    **{\n",
    "        \"data\": traces,\n",
    "        \"layout\": {\n",
    "            \"title\": \"Engine Displacement in Liters vs Highway MPG\",\n",
    "            \"xaxis\": {\"title\": \"Engine Displacement in Liters\",},\n",
    "            \"yaxis\": {\"title\": \"Highway MPG\"},\n",
    "        },\n",
    "    }\n",
    ")\n",
    "fig.show(renderer=\"png\")"
   ]
  },
  {
   "cell_type": "markdown",
   "metadata": {},
   "source": [
    "#### Scatter Plot with Single Facet"
   ]
  },
  {
   "cell_type": "code",
   "execution_count": null,
   "metadata": {
    "tags": [
     "ex",
     "name:scatter-plot-with-facet",
     "package:ggplot"
    ]
   },
   "outputs": [],
   "source": [
    "%%R -w 10 -h 10 -u in\n",
    "ggplot(data = mpg) + \n",
    "  aes(x=displ, y=hwy) +\n",
    "  geom_point() + \n",
    "  facet_wrap(~ class, nrow = 2)"
   ]
  },
  {
   "cell_type": "code",
   "execution_count": null,
   "metadata": {
    "tags": [
     "ex",
     "name:scatter-plot-with-facet",
     "package:seaborn"
    ]
   },
   "outputs": [],
   "source": [
    "(mpg\n",
    " .pipe(sns.FacetGrid, \n",
    "       col=\"class\", \n",
    "       col_wrap=4, \n",
    "       aspect=.5, \n",
    "       size=6)\n",
    " .map(plt.scatter, \"displ\", \"hwy\", s=20)\n",
    " .fig.subplots_adjust(wspace=.2, hspace=.2)\n",
    ");"
   ]
  },
  {
   "cell_type": "code",
   "execution_count": null,
   "metadata": {
    "tags": [
     "ex",
     "name:scatter-plot-with-facet",
     "package:plotnine"
    ]
   },
   "outputs": [],
   "source": [
    "(ggplot(mpg.assign(c=mpg[\"class\"])) + \n",
    "  aes(x=\"displ\", y=\"hwy\") +\n",
    "  geom_point() +\n",
    "  facet_wrap(\" ~ c\", nrow = 2))"
   ]
  },
  {
   "cell_type": "code",
   "execution_count": null,
   "metadata": {
    "tags": [
     "ex",
     "name:scatter-plot-with-facet",
     "package:plotly"
    ]
   },
   "outputs": [],
   "source": [
    "fig = FF.create_facet_grid(df=mpg, x=\"displ\", y=\"cty\", facet_col=\"class\")\n",
    "fig.show(renderer=\"png\")"
   ]
  },
  {
   "cell_type": "markdown",
   "metadata": {},
   "source": [
    "#### Scatter Plot with Facets"
   ]
  },
  {
   "cell_type": "code",
   "execution_count": null,
   "metadata": {
    "tags": [
     "ex",
     "name:scatter-plot-with-facets",
     "package:ggplot"
    ]
   },
   "outputs": [],
   "source": [
    "%%R -w 10 -h 10 -u in\n",
    "ggplot(data = mpg) + \n",
    "  aes(x = displ, y = hwy) +\n",
    "  geom_point() + \n",
    "  facet_grid(drv ~ cyl)"
   ]
  },
  {
   "cell_type": "code",
   "execution_count": null,
   "metadata": {
    "tags": [
     "ex",
     "name:scatter-plot-with-facets",
     "package:seaborn"
    ]
   },
   "outputs": [],
   "source": [
    "(mpg\n",
    " .pipe(sns.FacetGrid, \n",
    "       col=\"cyl\", \n",
    "       row=\"drv\", \n",
    "       aspect=.9, \n",
    "       size=4)\n",
    " .map(plt.scatter, \"displ\", \"hwy\", s=20)\n",
    " .fig.subplots_adjust(wspace=.02, hspace=.02)\n",
    ");"
   ]
  },
  {
   "cell_type": "code",
   "execution_count": null,
   "metadata": {
    "tags": [
     "ex",
     "name:scatter-plot-with-facets",
     "package:plotnine"
    ]
   },
   "outputs": [],
   "source": [
    "(ggplot(mpg) + \n",
    "  aes(x=\"displ\", y=\"hwy\") +\n",
    "  geom_point() + \n",
    "  facet_grid(\"drv ~ cyl\"))"
   ]
  },
  {
   "cell_type": "code",
   "execution_count": null,
   "metadata": {
    "tags": [
     "ex",
     "name:scatter-plot-with-facets",
     "package:plotly"
    ]
   },
   "outputs": [],
   "source": [
    "fig = FF.create_facet_grid(df=mpg,\n",
    "                          x ='displ',\n",
    "                          y = 'cty',\n",
    "                          facet_col = 'cyl',\n",
    "                          facet_row = 'drv')\n",
    "fig.show(renderer=\"png\")"
   ]
  },
  {
   "cell_type": "markdown",
   "metadata": {},
   "source": [
    "Stacked Scatter and Smoothed Line Plot"
   ]
  },
  {
   "cell_type": "code",
   "execution_count": null,
   "metadata": {
    "tags": [
     "ex",
     "name:stacked-smooth-line-and-scatter",
     "package:ggplot"
    ]
   },
   "outputs": [],
   "source": [
    "%%R -w 10 -h 10 -u in\n",
    "subcompact = mpg[mpg$`class` == \"subcompact\", ]\n",
    "ggplot(data = mpg, \n",
    "       mapping = aes(x = displ, y = hwy)) + \n",
    "  geom_point(mapping = aes(color = class)) + \n",
    "  geom_smooth(data = subcompact, \n",
    "              se = FALSE,\n",
    "              method = 'loess')"
   ]
  },
  {
   "cell_type": "code",
   "execution_count": null,
   "metadata": {
    "tags": [
     "ex",
     "name:stacked-smooth-line-and-scatter",
     "package:plotnine"
    ]
   },
   "outputs": [],
   "source": [
    "\"\"\"Notice the smoothed line isn't as smooth as it is in ggplot2.\"\"\"\n",
    "(ggplot(data=mpg, \n",
    "        mapping=aes(x=\"displ\", y=\"hwy\")) + \n",
    "  geom_point(mapping=aes(color = \"class\")) + \n",
    "  geom_smooth(data=mpg[mpg['class'] == \"subcompact\"], \n",
    "              se=False,\n",
    "              method = 'loess'\n",
    "             ))"
   ]
  },
  {
   "cell_type": "code",
   "execution_count": 35,
   "metadata": {
    "tags": [
     "ex",
     "name:stacked-smooth-line-and-scatter",
     "package:plotly"
    ]
   },
   "outputs": [
    {
     "data": {
      "application/vnd.plotly.v1+json": {
       "config": {
        "plotlyServerURL": "https://plot.ly"
       },
       "data": [
        {
         "mode": "markers",
         "name": "compact",
         "type": "scatter",
         "x": [
          1.8,
          1.8,
          2,
          2,
          2.8,
          2.8,
          3.1,
          1.8,
          1.8,
          2,
          2,
          2.8,
          2.8,
          3.1,
          3.1,
          2.4,
          2.4,
          2.5,
          2.5,
          2.5,
          2.5,
          2.2,
          2.2,
          2.4,
          2.4,
          3,
          3,
          3.3,
          1.8,
          1.8,
          1.8,
          1.8,
          1.8,
          2,
          2,
          2,
          2,
          2.8,
          1.9,
          2,
          2,
          2,
          2,
          2.5,
          2.5,
          2.8,
          2.8
         ],
         "y": [
          29,
          29,
          31,
          30,
          26,
          26,
          27,
          26,
          25,
          28,
          27,
          25,
          25,
          25,
          25,
          29,
          27,
          25,
          27,
          25,
          27,
          27,
          29,
          31,
          31,
          26,
          26,
          27,
          30,
          33,
          35,
          37,
          35,
          29,
          26,
          29,
          29,
          24,
          44,
          29,
          26,
          29,
          29,
          29,
          29,
          23,
          24
         ]
        },
        {
         "mode": "markers",
         "name": "midsize",
         "type": "scatter",
         "x": [
          2.8,
          3.1,
          4.2,
          2.4,
          2.4,
          3.1,
          3.5,
          3.6,
          2.4,
          2.4,
          2.4,
          2.4,
          2.5,
          2.5,
          3.3,
          2.5,
          2.5,
          3.5,
          3.5,
          3,
          3,
          3.5,
          3.1,
          3.8,
          3.8,
          3.8,
          5.3,
          2.2,
          2.2,
          2.4,
          2.4,
          3,
          3,
          3.5,
          1.8,
          1.8,
          2,
          2,
          2.8,
          2.8,
          3.6
         ],
         "y": [
          24,
          25,
          23,
          27,
          30,
          26,
          29,
          26,
          26,
          27,
          30,
          31,
          26,
          26,
          28,
          31,
          32,
          27,
          26,
          26,
          25,
          25,
          26,
          26,
          27,
          28,
          25,
          29,
          27,
          31,
          31,
          26,
          26,
          28,
          29,
          29,
          28,
          29,
          26,
          26,
          26
         ]
        },
        {
         "mode": "markers",
         "name": "suv",
         "type": "scatter",
         "x": [
          5.3,
          5.3,
          5.3,
          5.7,
          6,
          5.3,
          5.3,
          5.7,
          6.5,
          3.9,
          4.7,
          4.7,
          4.7,
          5.2,
          5.7,
          5.9,
          4.6,
          5.4,
          5.4,
          4,
          4,
          4,
          4,
          4.6,
          5,
          3,
          3.7,
          4,
          4.7,
          4.7,
          4.7,
          5.7,
          6.1,
          4,
          4.2,
          4.4,
          4.6,
          5.4,
          5.4,
          5.4,
          4,
          4,
          4.6,
          5,
          3.3,
          3.3,
          4,
          5.6,
          2.5,
          2.5,
          2.5,
          2.5,
          2.5,
          2.5,
          2.7,
          2.7,
          3.4,
          3.4,
          4,
          4.7,
          4.7,
          5.7
         ],
         "y": [
          20,
          15,
          20,
          17,
          17,
          19,
          14,
          15,
          17,
          17,
          17,
          12,
          17,
          16,
          18,
          15,
          17,
          17,
          18,
          17,
          19,
          17,
          19,
          19,
          17,
          22,
          19,
          20,
          17,
          12,
          19,
          18,
          14,
          15,
          18,
          18,
          15,
          17,
          16,
          18,
          17,
          19,
          19,
          17,
          17,
          17,
          20,
          18,
          25,
          24,
          27,
          25,
          26,
          23,
          20,
          20,
          19,
          17,
          20,
          17,
          15,
          18
         ]
        },
        {
         "mode": "markers",
         "name": "2seater",
         "type": "scatter",
         "x": [
          5.7,
          5.7,
          6.2,
          6.2,
          7
         ],
         "y": [
          26,
          23,
          26,
          25,
          24
         ]
        },
        {
         "mode": "markers",
         "name": "minivan",
         "type": "scatter",
         "x": [
          2.4,
          3,
          3.3,
          3.3,
          3.3,
          3.3,
          3.3,
          3.8,
          3.8,
          3.8,
          4
         ],
         "y": [
          24,
          24,
          22,
          22,
          24,
          24,
          17,
          22,
          21,
          23,
          23
         ]
        },
        {
         "mode": "markers",
         "name": "pickup",
         "type": "scatter",
         "x": [
          3.7,
          3.7,
          3.9,
          3.9,
          4.7,
          4.7,
          4.7,
          5.2,
          5.2,
          4.7,
          4.7,
          4.7,
          4.7,
          4.7,
          4.7,
          5.2,
          5.2,
          5.7,
          5.9,
          4.2,
          4.2,
          4.6,
          4.6,
          4.6,
          5.4,
          5.4,
          2.7,
          2.7,
          2.7,
          3.4,
          3.4,
          4,
          4
         ],
         "y": [
          19,
          18,
          17,
          17,
          19,
          19,
          12,
          17,
          15,
          16,
          12,
          17,
          17,
          16,
          12,
          15,
          16,
          17,
          15,
          17,
          17,
          16,
          16,
          17,
          15,
          17,
          20,
          20,
          22,
          17,
          19,
          18,
          20
         ]
        },
        {
         "mode": "markers",
         "name": "subcompact",
         "type": "scatter",
         "x": [
          3.8,
          3.8,
          4,
          4,
          4.6,
          4.6,
          4.6,
          4.6,
          5.4,
          1.6,
          1.6,
          1.6,
          1.6,
          1.6,
          1.8,
          1.8,
          1.8,
          2,
          2,
          2,
          2,
          2,
          2.7,
          2.7,
          2.7,
          2.2,
          2.2,
          2.5,
          2.5,
          1.9,
          1.9,
          2,
          2,
          2.5,
          2.5
         ],
         "y": [
          26,
          25,
          26,
          24,
          21,
          22,
          23,
          22,
          20,
          33,
          32,
          32,
          29,
          32,
          34,
          36,
          36,
          29,
          26,
          29,
          28,
          27,
          24,
          24,
          24,
          26,
          26,
          26,
          26,
          44,
          41,
          29,
          26,
          28,
          29
         ]
        },
        {
         "line": {
          "shape": "spline",
          "smoothing": 1.3
         },
         "mode": "lines",
         "name": "smoothing",
         "type": "scatter",
         "x": [
          1.6,
          1.6,
          1.6,
          1.6,
          1.6,
          1.8,
          1.8,
          1.8,
          1.9,
          1.9,
          2,
          2,
          2,
          2,
          2,
          2,
          2,
          2.2,
          2.2,
          2.5,
          2.5,
          2.5,
          2.5,
          2.7,
          2.7,
          2.7,
          3.8,
          3.8,
          4,
          4,
          4.6,
          4.6,
          4.6,
          4.6,
          5.4
         ],
         "y": [
          32,
          32,
          33,
          29,
          32,
          36,
          36,
          34,
          41,
          44,
          26,
          27,
          29,
          29,
          26,
          29,
          28,
          26,
          26,
          26,
          26,
          29,
          28,
          24,
          24,
          24,
          25,
          26,
          24,
          26,
          22,
          23,
          22,
          21,
          20
         ]
        }
       ],
       "layout": {
        "template": {
         "data": {
          "bar": [
           {
            "error_x": {
             "color": "#2a3f5f"
            },
            "error_y": {
             "color": "#2a3f5f"
            },
            "marker": {
             "line": {
              "color": "#E5ECF6",
              "width": 0.5
             }
            },
            "type": "bar"
           }
          ],
          "barpolar": [
           {
            "marker": {
             "line": {
              "color": "#E5ECF6",
              "width": 0.5
             }
            },
            "type": "barpolar"
           }
          ],
          "carpet": [
           {
            "aaxis": {
             "endlinecolor": "#2a3f5f",
             "gridcolor": "white",
             "linecolor": "white",
             "minorgridcolor": "white",
             "startlinecolor": "#2a3f5f"
            },
            "baxis": {
             "endlinecolor": "#2a3f5f",
             "gridcolor": "white",
             "linecolor": "white",
             "minorgridcolor": "white",
             "startlinecolor": "#2a3f5f"
            },
            "type": "carpet"
           }
          ],
          "choropleth": [
           {
            "colorbar": {
             "outlinewidth": 0,
             "ticks": ""
            },
            "type": "choropleth"
           }
          ],
          "contour": [
           {
            "colorbar": {
             "outlinewidth": 0,
             "ticks": ""
            },
            "colorscale": [
             [
              0,
              "#0d0887"
             ],
             [
              0.1111111111111111,
              "#46039f"
             ],
             [
              0.2222222222222222,
              "#7201a8"
             ],
             [
              0.3333333333333333,
              "#9c179e"
             ],
             [
              0.4444444444444444,
              "#bd3786"
             ],
             [
              0.5555555555555556,
              "#d8576b"
             ],
             [
              0.6666666666666666,
              "#ed7953"
             ],
             [
              0.7777777777777778,
              "#fb9f3a"
             ],
             [
              0.8888888888888888,
              "#fdca26"
             ],
             [
              1,
              "#f0f921"
             ]
            ],
            "type": "contour"
           }
          ],
          "contourcarpet": [
           {
            "colorbar": {
             "outlinewidth": 0,
             "ticks": ""
            },
            "type": "contourcarpet"
           }
          ],
          "heatmap": [
           {
            "colorbar": {
             "outlinewidth": 0,
             "ticks": ""
            },
            "colorscale": [
             [
              0,
              "#0d0887"
             ],
             [
              0.1111111111111111,
              "#46039f"
             ],
             [
              0.2222222222222222,
              "#7201a8"
             ],
             [
              0.3333333333333333,
              "#9c179e"
             ],
             [
              0.4444444444444444,
              "#bd3786"
             ],
             [
              0.5555555555555556,
              "#d8576b"
             ],
             [
              0.6666666666666666,
              "#ed7953"
             ],
             [
              0.7777777777777778,
              "#fb9f3a"
             ],
             [
              0.8888888888888888,
              "#fdca26"
             ],
             [
              1,
              "#f0f921"
             ]
            ],
            "type": "heatmap"
           }
          ],
          "heatmapgl": [
           {
            "colorbar": {
             "outlinewidth": 0,
             "ticks": ""
            },
            "colorscale": [
             [
              0,
              "#0d0887"
             ],
             [
              0.1111111111111111,
              "#46039f"
             ],
             [
              0.2222222222222222,
              "#7201a8"
             ],
             [
              0.3333333333333333,
              "#9c179e"
             ],
             [
              0.4444444444444444,
              "#bd3786"
             ],
             [
              0.5555555555555556,
              "#d8576b"
             ],
             [
              0.6666666666666666,
              "#ed7953"
             ],
             [
              0.7777777777777778,
              "#fb9f3a"
             ],
             [
              0.8888888888888888,
              "#fdca26"
             ],
             [
              1,
              "#f0f921"
             ]
            ],
            "type": "heatmapgl"
           }
          ],
          "histogram": [
           {
            "marker": {
             "colorbar": {
              "outlinewidth": 0,
              "ticks": ""
             }
            },
            "type": "histogram"
           }
          ],
          "histogram2d": [
           {
            "colorbar": {
             "outlinewidth": 0,
             "ticks": ""
            },
            "colorscale": [
             [
              0,
              "#0d0887"
             ],
             [
              0.1111111111111111,
              "#46039f"
             ],
             [
              0.2222222222222222,
              "#7201a8"
             ],
             [
              0.3333333333333333,
              "#9c179e"
             ],
             [
              0.4444444444444444,
              "#bd3786"
             ],
             [
              0.5555555555555556,
              "#d8576b"
             ],
             [
              0.6666666666666666,
              "#ed7953"
             ],
             [
              0.7777777777777778,
              "#fb9f3a"
             ],
             [
              0.8888888888888888,
              "#fdca26"
             ],
             [
              1,
              "#f0f921"
             ]
            ],
            "type": "histogram2d"
           }
          ],
          "histogram2dcontour": [
           {
            "colorbar": {
             "outlinewidth": 0,
             "ticks": ""
            },
            "colorscale": [
             [
              0,
              "#0d0887"
             ],
             [
              0.1111111111111111,
              "#46039f"
             ],
             [
              0.2222222222222222,
              "#7201a8"
             ],
             [
              0.3333333333333333,
              "#9c179e"
             ],
             [
              0.4444444444444444,
              "#bd3786"
             ],
             [
              0.5555555555555556,
              "#d8576b"
             ],
             [
              0.6666666666666666,
              "#ed7953"
             ],
             [
              0.7777777777777778,
              "#fb9f3a"
             ],
             [
              0.8888888888888888,
              "#fdca26"
             ],
             [
              1,
              "#f0f921"
             ]
            ],
            "type": "histogram2dcontour"
           }
          ],
          "mesh3d": [
           {
            "colorbar": {
             "outlinewidth": 0,
             "ticks": ""
            },
            "type": "mesh3d"
           }
          ],
          "parcoords": [
           {
            "line": {
             "colorbar": {
              "outlinewidth": 0,
              "ticks": ""
             }
            },
            "type": "parcoords"
           }
          ],
          "pie": [
           {
            "automargin": true,
            "type": "pie"
           }
          ],
          "scatter": [
           {
            "marker": {
             "colorbar": {
              "outlinewidth": 0,
              "ticks": ""
             }
            },
            "type": "scatter"
           }
          ],
          "scatter3d": [
           {
            "line": {
             "colorbar": {
              "outlinewidth": 0,
              "ticks": ""
             }
            },
            "marker": {
             "colorbar": {
              "outlinewidth": 0,
              "ticks": ""
             }
            },
            "type": "scatter3d"
           }
          ],
          "scattercarpet": [
           {
            "marker": {
             "colorbar": {
              "outlinewidth": 0,
              "ticks": ""
             }
            },
            "type": "scattercarpet"
           }
          ],
          "scattergeo": [
           {
            "marker": {
             "colorbar": {
              "outlinewidth": 0,
              "ticks": ""
             }
            },
            "type": "scattergeo"
           }
          ],
          "scattergl": [
           {
            "marker": {
             "colorbar": {
              "outlinewidth": 0,
              "ticks": ""
             }
            },
            "type": "scattergl"
           }
          ],
          "scattermapbox": [
           {
            "marker": {
             "colorbar": {
              "outlinewidth": 0,
              "ticks": ""
             }
            },
            "type": "scattermapbox"
           }
          ],
          "scatterpolar": [
           {
            "marker": {
             "colorbar": {
              "outlinewidth": 0,
              "ticks": ""
             }
            },
            "type": "scatterpolar"
           }
          ],
          "scatterpolargl": [
           {
            "marker": {
             "colorbar": {
              "outlinewidth": 0,
              "ticks": ""
             }
            },
            "type": "scatterpolargl"
           }
          ],
          "scatterternary": [
           {
            "marker": {
             "colorbar": {
              "outlinewidth": 0,
              "ticks": ""
             }
            },
            "type": "scatterternary"
           }
          ],
          "surface": [
           {
            "colorbar": {
             "outlinewidth": 0,
             "ticks": ""
            },
            "colorscale": [
             [
              0,
              "#0d0887"
             ],
             [
              0.1111111111111111,
              "#46039f"
             ],
             [
              0.2222222222222222,
              "#7201a8"
             ],
             [
              0.3333333333333333,
              "#9c179e"
             ],
             [
              0.4444444444444444,
              "#bd3786"
             ],
             [
              0.5555555555555556,
              "#d8576b"
             ],
             [
              0.6666666666666666,
              "#ed7953"
             ],
             [
              0.7777777777777778,
              "#fb9f3a"
             ],
             [
              0.8888888888888888,
              "#fdca26"
             ],
             [
              1,
              "#f0f921"
             ]
            ],
            "type": "surface"
           }
          ],
          "table": [
           {
            "cells": {
             "fill": {
              "color": "#EBF0F8"
             },
             "line": {
              "color": "white"
             }
            },
            "header": {
             "fill": {
              "color": "#C8D4E3"
             },
             "line": {
              "color": "white"
             }
            },
            "type": "table"
           }
          ]
         },
         "layout": {
          "annotationdefaults": {
           "arrowcolor": "#2a3f5f",
           "arrowhead": 0,
           "arrowwidth": 1
          },
          "coloraxis": {
           "colorbar": {
            "outlinewidth": 0,
            "ticks": ""
           }
          },
          "colorscale": {
           "diverging": [
            [
             0,
             "#8e0152"
            ],
            [
             0.1,
             "#c51b7d"
            ],
            [
             0.2,
             "#de77ae"
            ],
            [
             0.3,
             "#f1b6da"
            ],
            [
             0.4,
             "#fde0ef"
            ],
            [
             0.5,
             "#f7f7f7"
            ],
            [
             0.6,
             "#e6f5d0"
            ],
            [
             0.7,
             "#b8e186"
            ],
            [
             0.8,
             "#7fbc41"
            ],
            [
             0.9,
             "#4d9221"
            ],
            [
             1,
             "#276419"
            ]
           ],
           "sequential": [
            [
             0,
             "#0d0887"
            ],
            [
             0.1111111111111111,
             "#46039f"
            ],
            [
             0.2222222222222222,
             "#7201a8"
            ],
            [
             0.3333333333333333,
             "#9c179e"
            ],
            [
             0.4444444444444444,
             "#bd3786"
            ],
            [
             0.5555555555555556,
             "#d8576b"
            ],
            [
             0.6666666666666666,
             "#ed7953"
            ],
            [
             0.7777777777777778,
             "#fb9f3a"
            ],
            [
             0.8888888888888888,
             "#fdca26"
            ],
            [
             1,
             "#f0f921"
            ]
           ],
           "sequentialminus": [
            [
             0,
             "#0d0887"
            ],
            [
             0.1111111111111111,
             "#46039f"
            ],
            [
             0.2222222222222222,
             "#7201a8"
            ],
            [
             0.3333333333333333,
             "#9c179e"
            ],
            [
             0.4444444444444444,
             "#bd3786"
            ],
            [
             0.5555555555555556,
             "#d8576b"
            ],
            [
             0.6666666666666666,
             "#ed7953"
            ],
            [
             0.7777777777777778,
             "#fb9f3a"
            ],
            [
             0.8888888888888888,
             "#fdca26"
            ],
            [
             1,
             "#f0f921"
            ]
           ]
          },
          "colorway": [
           "#636efa",
           "#EF553B",
           "#00cc96",
           "#ab63fa",
           "#FFA15A",
           "#19d3f3",
           "#FF6692",
           "#B6E880",
           "#FF97FF",
           "#FECB52"
          ],
          "font": {
           "color": "#2a3f5f"
          },
          "geo": {
           "bgcolor": "white",
           "lakecolor": "white",
           "landcolor": "#E5ECF6",
           "showlakes": true,
           "showland": true,
           "subunitcolor": "white"
          },
          "hoverlabel": {
           "align": "left"
          },
          "hovermode": "closest",
          "mapbox": {
           "style": "light"
          },
          "paper_bgcolor": "white",
          "plot_bgcolor": "#E5ECF6",
          "polar": {
           "angularaxis": {
            "gridcolor": "white",
            "linecolor": "white",
            "ticks": ""
           },
           "bgcolor": "#E5ECF6",
           "radialaxis": {
            "gridcolor": "white",
            "linecolor": "white",
            "ticks": ""
           }
          },
          "scene": {
           "xaxis": {
            "backgroundcolor": "#E5ECF6",
            "gridcolor": "white",
            "gridwidth": 2,
            "linecolor": "white",
            "showbackground": true,
            "ticks": "",
            "zerolinecolor": "white"
           },
           "yaxis": {
            "backgroundcolor": "#E5ECF6",
            "gridcolor": "white",
            "gridwidth": 2,
            "linecolor": "white",
            "showbackground": true,
            "ticks": "",
            "zerolinecolor": "white"
           },
           "zaxis": {
            "backgroundcolor": "#E5ECF6",
            "gridcolor": "white",
            "gridwidth": 2,
            "linecolor": "white",
            "showbackground": true,
            "ticks": "",
            "zerolinecolor": "white"
           }
          },
          "shapedefaults": {
           "line": {
            "color": "#2a3f5f"
           }
          },
          "ternary": {
           "aaxis": {
            "gridcolor": "white",
            "linecolor": "white",
            "ticks": ""
           },
           "baxis": {
            "gridcolor": "white",
            "linecolor": "white",
            "ticks": ""
           },
           "bgcolor": "#E5ECF6",
           "caxis": {
            "gridcolor": "white",
            "linecolor": "white",
            "ticks": ""
           }
          },
          "title": {
           "x": 0.05
          },
          "xaxis": {
           "automargin": true,
           "gridcolor": "white",
           "linecolor": "white",
           "ticks": "",
           "title": {
            "standoff": 15
           },
           "zerolinecolor": "white",
           "zerolinewidth": 2
          },
          "yaxis": {
           "automargin": true,
           "gridcolor": "white",
           "linecolor": "white",
           "ticks": "",
           "title": {
            "standoff": 15
           },
           "zerolinecolor": "white",
           "zerolinewidth": 2
          }
         }
        },
        "title": {
         "text": "Engine Displacement in Liters vs Highway MPG"
        },
        "xaxis": {
         "title": {
          "text": "Engine Displacement in Liters"
         }
        },
        "yaxis": {
         "title": {
          "text": "Highway MPG"
         }
        }
       }
      },
      "text/html": [
       "<div>\n",
       "        \n",
       "        \n",
       "            <div id=\"5a25a6c2-30b3-45f8-a63f-e889ea83eeac\" class=\"plotly-graph-div\" style=\"height:525px; width:100%;\"></div>\n",
       "            <script type=\"text/javascript\">\n",
       "                require([\"plotly\"], function(Plotly) {\n",
       "                    window.PLOTLYENV=window.PLOTLYENV || {};\n",
       "                    \n",
       "                if (document.getElementById(\"5a25a6c2-30b3-45f8-a63f-e889ea83eeac\")) {\n",
       "                    Plotly.newPlot(\n",
       "                        '5a25a6c2-30b3-45f8-a63f-e889ea83eeac',\n",
       "                        [{\"mode\": \"markers\", \"name\": \"compact\", \"type\": \"scatter\", \"x\": [1.8, 1.8, 2.0, 2.0, 2.8, 2.8, 3.1, 1.8, 1.8, 2.0, 2.0, 2.8, 2.8, 3.1, 3.1, 2.4, 2.4, 2.5, 2.5, 2.5, 2.5, 2.2, 2.2, 2.4, 2.4, 3.0, 3.0, 3.3, 1.8, 1.8, 1.8, 1.8, 1.8, 2.0, 2.0, 2.0, 2.0, 2.8, 1.9, 2.0, 2.0, 2.0, 2.0, 2.5, 2.5, 2.8, 2.8], \"y\": [29, 29, 31, 30, 26, 26, 27, 26, 25, 28, 27, 25, 25, 25, 25, 29, 27, 25, 27, 25, 27, 27, 29, 31, 31, 26, 26, 27, 30, 33, 35, 37, 35, 29, 26, 29, 29, 24, 44, 29, 26, 29, 29, 29, 29, 23, 24]}, {\"mode\": \"markers\", \"name\": \"midsize\", \"type\": \"scatter\", \"x\": [2.8, 3.1, 4.2, 2.4, 2.4, 3.1, 3.5, 3.6, 2.4, 2.4, 2.4, 2.4, 2.5, 2.5, 3.3, 2.5, 2.5, 3.5, 3.5, 3.0, 3.0, 3.5, 3.1, 3.8, 3.8, 3.8, 5.3, 2.2, 2.2, 2.4, 2.4, 3.0, 3.0, 3.5, 1.8, 1.8, 2.0, 2.0, 2.8, 2.8, 3.6], \"y\": [24, 25, 23, 27, 30, 26, 29, 26, 26, 27, 30, 31, 26, 26, 28, 31, 32, 27, 26, 26, 25, 25, 26, 26, 27, 28, 25, 29, 27, 31, 31, 26, 26, 28, 29, 29, 28, 29, 26, 26, 26]}, {\"mode\": \"markers\", \"name\": \"suv\", \"type\": \"scatter\", \"x\": [5.3, 5.3, 5.3, 5.7, 6.0, 5.3, 5.3, 5.7, 6.5, 3.9, 4.7, 4.7, 4.7, 5.2, 5.7, 5.9, 4.6, 5.4, 5.4, 4.0, 4.0, 4.0, 4.0, 4.6, 5.0, 3.0, 3.7, 4.0, 4.7, 4.7, 4.7, 5.7, 6.1, 4.0, 4.2, 4.4, 4.6, 5.4, 5.4, 5.4, 4.0, 4.0, 4.6, 5.0, 3.3, 3.3, 4.0, 5.6, 2.5, 2.5, 2.5, 2.5, 2.5, 2.5, 2.7, 2.7, 3.4, 3.4, 4.0, 4.7, 4.7, 5.7], \"y\": [20, 15, 20, 17, 17, 19, 14, 15, 17, 17, 17, 12, 17, 16, 18, 15, 17, 17, 18, 17, 19, 17, 19, 19, 17, 22, 19, 20, 17, 12, 19, 18, 14, 15, 18, 18, 15, 17, 16, 18, 17, 19, 19, 17, 17, 17, 20, 18, 25, 24, 27, 25, 26, 23, 20, 20, 19, 17, 20, 17, 15, 18]}, {\"mode\": \"markers\", \"name\": \"2seater\", \"type\": \"scatter\", \"x\": [5.7, 5.7, 6.2, 6.2, 7.0], \"y\": [26, 23, 26, 25, 24]}, {\"mode\": \"markers\", \"name\": \"minivan\", \"type\": \"scatter\", \"x\": [2.4, 3.0, 3.3, 3.3, 3.3, 3.3, 3.3, 3.8, 3.8, 3.8, 4.0], \"y\": [24, 24, 22, 22, 24, 24, 17, 22, 21, 23, 23]}, {\"mode\": \"markers\", \"name\": \"pickup\", \"type\": \"scatter\", \"x\": [3.7, 3.7, 3.9, 3.9, 4.7, 4.7, 4.7, 5.2, 5.2, 4.7, 4.7, 4.7, 4.7, 4.7, 4.7, 5.2, 5.2, 5.7, 5.9, 4.2, 4.2, 4.6, 4.6, 4.6, 5.4, 5.4, 2.7, 2.7, 2.7, 3.4, 3.4, 4.0, 4.0], \"y\": [19, 18, 17, 17, 19, 19, 12, 17, 15, 16, 12, 17, 17, 16, 12, 15, 16, 17, 15, 17, 17, 16, 16, 17, 15, 17, 20, 20, 22, 17, 19, 18, 20]}, {\"mode\": \"markers\", \"name\": \"subcompact\", \"type\": \"scatter\", \"x\": [3.8, 3.8, 4.0, 4.0, 4.6, 4.6, 4.6, 4.6, 5.4, 1.6, 1.6, 1.6, 1.6, 1.6, 1.8, 1.8, 1.8, 2.0, 2.0, 2.0, 2.0, 2.0, 2.7, 2.7, 2.7, 2.2, 2.2, 2.5, 2.5, 1.9, 1.9, 2.0, 2.0, 2.5, 2.5], \"y\": [26, 25, 26, 24, 21, 22, 23, 22, 20, 33, 32, 32, 29, 32, 34, 36, 36, 29, 26, 29, 28, 27, 24, 24, 24, 26, 26, 26, 26, 44, 41, 29, 26, 28, 29]}, {\"line\": {\"shape\": \"spline\", \"smoothing\": 1.3}, \"mode\": \"lines\", \"name\": \"smoothing\", \"type\": \"scatter\", \"x\": [1.6, 1.6, 1.6, 1.6, 1.6, 1.8, 1.8, 1.8, 1.9, 1.9, 2.0, 2.0, 2.0, 2.0, 2.0, 2.0, 2.0, 2.2, 2.2, 2.5, 2.5, 2.5, 2.5, 2.7, 2.7, 2.7, 3.8, 3.8, 4.0, 4.0, 4.6, 4.6, 4.6, 4.6, 5.4], \"y\": [32, 32, 33, 29, 32, 36, 36, 34, 41, 44, 26, 27, 29, 29, 26, 29, 28, 26, 26, 26, 26, 29, 28, 24, 24, 24, 25, 26, 24, 26, 22, 23, 22, 21, 20]}],\n",
       "                        {\"template\": {\"data\": {\"bar\": [{\"error_x\": {\"color\": \"#2a3f5f\"}, \"error_y\": {\"color\": \"#2a3f5f\"}, \"marker\": {\"line\": {\"color\": \"#E5ECF6\", \"width\": 0.5}}, \"type\": \"bar\"}], \"barpolar\": [{\"marker\": {\"line\": {\"color\": \"#E5ECF6\", \"width\": 0.5}}, \"type\": \"barpolar\"}], \"carpet\": [{\"aaxis\": {\"endlinecolor\": \"#2a3f5f\", \"gridcolor\": \"white\", \"linecolor\": \"white\", \"minorgridcolor\": \"white\", \"startlinecolor\": \"#2a3f5f\"}, \"baxis\": {\"endlinecolor\": \"#2a3f5f\", \"gridcolor\": \"white\", \"linecolor\": \"white\", \"minorgridcolor\": \"white\", \"startlinecolor\": \"#2a3f5f\"}, \"type\": \"carpet\"}], \"choropleth\": [{\"colorbar\": {\"outlinewidth\": 0, \"ticks\": \"\"}, \"type\": \"choropleth\"}], \"contour\": [{\"colorbar\": {\"outlinewidth\": 0, \"ticks\": \"\"}, \"colorscale\": [[0.0, \"#0d0887\"], [0.1111111111111111, \"#46039f\"], [0.2222222222222222, \"#7201a8\"], [0.3333333333333333, \"#9c179e\"], [0.4444444444444444, \"#bd3786\"], [0.5555555555555556, \"#d8576b\"], [0.6666666666666666, \"#ed7953\"], [0.7777777777777778, \"#fb9f3a\"], [0.8888888888888888, \"#fdca26\"], [1.0, \"#f0f921\"]], \"type\": \"contour\"}], \"contourcarpet\": [{\"colorbar\": {\"outlinewidth\": 0, \"ticks\": \"\"}, \"type\": \"contourcarpet\"}], \"heatmap\": [{\"colorbar\": {\"outlinewidth\": 0, \"ticks\": \"\"}, \"colorscale\": [[0.0, \"#0d0887\"], [0.1111111111111111, \"#46039f\"], [0.2222222222222222, \"#7201a8\"], [0.3333333333333333, \"#9c179e\"], [0.4444444444444444, \"#bd3786\"], [0.5555555555555556, \"#d8576b\"], [0.6666666666666666, \"#ed7953\"], [0.7777777777777778, \"#fb9f3a\"], [0.8888888888888888, \"#fdca26\"], [1.0, \"#f0f921\"]], \"type\": \"heatmap\"}], \"heatmapgl\": [{\"colorbar\": {\"outlinewidth\": 0, \"ticks\": \"\"}, \"colorscale\": [[0.0, \"#0d0887\"], [0.1111111111111111, \"#46039f\"], [0.2222222222222222, \"#7201a8\"], [0.3333333333333333, \"#9c179e\"], [0.4444444444444444, \"#bd3786\"], [0.5555555555555556, \"#d8576b\"], [0.6666666666666666, \"#ed7953\"], [0.7777777777777778, \"#fb9f3a\"], [0.8888888888888888, \"#fdca26\"], [1.0, \"#f0f921\"]], \"type\": \"heatmapgl\"}], \"histogram\": [{\"marker\": {\"colorbar\": {\"outlinewidth\": 0, \"ticks\": \"\"}}, \"type\": \"histogram\"}], \"histogram2d\": [{\"colorbar\": {\"outlinewidth\": 0, \"ticks\": \"\"}, \"colorscale\": [[0.0, \"#0d0887\"], [0.1111111111111111, \"#46039f\"], [0.2222222222222222, \"#7201a8\"], [0.3333333333333333, \"#9c179e\"], [0.4444444444444444, \"#bd3786\"], [0.5555555555555556, \"#d8576b\"], [0.6666666666666666, \"#ed7953\"], [0.7777777777777778, \"#fb9f3a\"], [0.8888888888888888, \"#fdca26\"], [1.0, \"#f0f921\"]], \"type\": \"histogram2d\"}], \"histogram2dcontour\": [{\"colorbar\": {\"outlinewidth\": 0, \"ticks\": \"\"}, \"colorscale\": [[0.0, \"#0d0887\"], [0.1111111111111111, \"#46039f\"], [0.2222222222222222, \"#7201a8\"], [0.3333333333333333, \"#9c179e\"], [0.4444444444444444, \"#bd3786\"], [0.5555555555555556, \"#d8576b\"], [0.6666666666666666, \"#ed7953\"], [0.7777777777777778, \"#fb9f3a\"], [0.8888888888888888, \"#fdca26\"], [1.0, \"#f0f921\"]], \"type\": \"histogram2dcontour\"}], \"mesh3d\": [{\"colorbar\": {\"outlinewidth\": 0, \"ticks\": \"\"}, \"type\": \"mesh3d\"}], \"parcoords\": [{\"line\": {\"colorbar\": {\"outlinewidth\": 0, \"ticks\": \"\"}}, \"type\": \"parcoords\"}], \"pie\": [{\"automargin\": true, \"type\": \"pie\"}], \"scatter\": [{\"marker\": {\"colorbar\": {\"outlinewidth\": 0, \"ticks\": \"\"}}, \"type\": \"scatter\"}], \"scatter3d\": [{\"line\": {\"colorbar\": {\"outlinewidth\": 0, \"ticks\": \"\"}}, \"marker\": {\"colorbar\": {\"outlinewidth\": 0, \"ticks\": \"\"}}, \"type\": \"scatter3d\"}], \"scattercarpet\": [{\"marker\": {\"colorbar\": {\"outlinewidth\": 0, \"ticks\": \"\"}}, \"type\": \"scattercarpet\"}], \"scattergeo\": [{\"marker\": {\"colorbar\": {\"outlinewidth\": 0, \"ticks\": \"\"}}, \"type\": \"scattergeo\"}], \"scattergl\": [{\"marker\": {\"colorbar\": {\"outlinewidth\": 0, \"ticks\": \"\"}}, \"type\": \"scattergl\"}], \"scattermapbox\": [{\"marker\": {\"colorbar\": {\"outlinewidth\": 0, \"ticks\": \"\"}}, \"type\": \"scattermapbox\"}], \"scatterpolar\": [{\"marker\": {\"colorbar\": {\"outlinewidth\": 0, \"ticks\": \"\"}}, \"type\": \"scatterpolar\"}], \"scatterpolargl\": [{\"marker\": {\"colorbar\": {\"outlinewidth\": 0, \"ticks\": \"\"}}, \"type\": \"scatterpolargl\"}], \"scatterternary\": [{\"marker\": {\"colorbar\": {\"outlinewidth\": 0, \"ticks\": \"\"}}, \"type\": \"scatterternary\"}], \"surface\": [{\"colorbar\": {\"outlinewidth\": 0, \"ticks\": \"\"}, \"colorscale\": [[0.0, \"#0d0887\"], [0.1111111111111111, \"#46039f\"], [0.2222222222222222, \"#7201a8\"], [0.3333333333333333, \"#9c179e\"], [0.4444444444444444, \"#bd3786\"], [0.5555555555555556, \"#d8576b\"], [0.6666666666666666, \"#ed7953\"], [0.7777777777777778, \"#fb9f3a\"], [0.8888888888888888, \"#fdca26\"], [1.0, \"#f0f921\"]], \"type\": \"surface\"}], \"table\": [{\"cells\": {\"fill\": {\"color\": \"#EBF0F8\"}, \"line\": {\"color\": \"white\"}}, \"header\": {\"fill\": {\"color\": \"#C8D4E3\"}, \"line\": {\"color\": \"white\"}}, \"type\": \"table\"}]}, \"layout\": {\"annotationdefaults\": {\"arrowcolor\": \"#2a3f5f\", \"arrowhead\": 0, \"arrowwidth\": 1}, \"coloraxis\": {\"colorbar\": {\"outlinewidth\": 0, \"ticks\": \"\"}}, \"colorscale\": {\"diverging\": [[0, \"#8e0152\"], [0.1, \"#c51b7d\"], [0.2, \"#de77ae\"], [0.3, \"#f1b6da\"], [0.4, \"#fde0ef\"], [0.5, \"#f7f7f7\"], [0.6, \"#e6f5d0\"], [0.7, \"#b8e186\"], [0.8, \"#7fbc41\"], [0.9, \"#4d9221\"], [1, \"#276419\"]], \"sequential\": [[0.0, \"#0d0887\"], [0.1111111111111111, \"#46039f\"], [0.2222222222222222, \"#7201a8\"], [0.3333333333333333, \"#9c179e\"], [0.4444444444444444, \"#bd3786\"], [0.5555555555555556, \"#d8576b\"], [0.6666666666666666, \"#ed7953\"], [0.7777777777777778, \"#fb9f3a\"], [0.8888888888888888, \"#fdca26\"], [1.0, \"#f0f921\"]], \"sequentialminus\": [[0.0, \"#0d0887\"], [0.1111111111111111, \"#46039f\"], [0.2222222222222222, \"#7201a8\"], [0.3333333333333333, \"#9c179e\"], [0.4444444444444444, \"#bd3786\"], [0.5555555555555556, \"#d8576b\"], [0.6666666666666666, \"#ed7953\"], [0.7777777777777778, \"#fb9f3a\"], [0.8888888888888888, \"#fdca26\"], [1.0, \"#f0f921\"]]}, \"colorway\": [\"#636efa\", \"#EF553B\", \"#00cc96\", \"#ab63fa\", \"#FFA15A\", \"#19d3f3\", \"#FF6692\", \"#B6E880\", \"#FF97FF\", \"#FECB52\"], \"font\": {\"color\": \"#2a3f5f\"}, \"geo\": {\"bgcolor\": \"white\", \"lakecolor\": \"white\", \"landcolor\": \"#E5ECF6\", \"showlakes\": true, \"showland\": true, \"subunitcolor\": \"white\"}, \"hoverlabel\": {\"align\": \"left\"}, \"hovermode\": \"closest\", \"mapbox\": {\"style\": \"light\"}, \"paper_bgcolor\": \"white\", \"plot_bgcolor\": \"#E5ECF6\", \"polar\": {\"angularaxis\": {\"gridcolor\": \"white\", \"linecolor\": \"white\", \"ticks\": \"\"}, \"bgcolor\": \"#E5ECF6\", \"radialaxis\": {\"gridcolor\": \"white\", \"linecolor\": \"white\", \"ticks\": \"\"}}, \"scene\": {\"xaxis\": {\"backgroundcolor\": \"#E5ECF6\", \"gridcolor\": \"white\", \"gridwidth\": 2, \"linecolor\": \"white\", \"showbackground\": true, \"ticks\": \"\", \"zerolinecolor\": \"white\"}, \"yaxis\": {\"backgroundcolor\": \"#E5ECF6\", \"gridcolor\": \"white\", \"gridwidth\": 2, \"linecolor\": \"white\", \"showbackground\": true, \"ticks\": \"\", \"zerolinecolor\": \"white\"}, \"zaxis\": {\"backgroundcolor\": \"#E5ECF6\", \"gridcolor\": \"white\", \"gridwidth\": 2, \"linecolor\": \"white\", \"showbackground\": true, \"ticks\": \"\", \"zerolinecolor\": \"white\"}}, \"shapedefaults\": {\"line\": {\"color\": \"#2a3f5f\"}}, \"ternary\": {\"aaxis\": {\"gridcolor\": \"white\", \"linecolor\": \"white\", \"ticks\": \"\"}, \"baxis\": {\"gridcolor\": \"white\", \"linecolor\": \"white\", \"ticks\": \"\"}, \"bgcolor\": \"#E5ECF6\", \"caxis\": {\"gridcolor\": \"white\", \"linecolor\": \"white\", \"ticks\": \"\"}}, \"title\": {\"x\": 0.05}, \"xaxis\": {\"automargin\": true, \"gridcolor\": \"white\", \"linecolor\": \"white\", \"ticks\": \"\", \"title\": {\"standoff\": 15}, \"zerolinecolor\": \"white\", \"zerolinewidth\": 2}, \"yaxis\": {\"automargin\": true, \"gridcolor\": \"white\", \"linecolor\": \"white\", \"ticks\": \"\", \"title\": {\"standoff\": 15}, \"zerolinecolor\": \"white\", \"zerolinewidth\": 2}}}, \"title\": {\"text\": \"Engine Displacement in Liters vs Highway MPG\"}, \"xaxis\": {\"title\": {\"text\": \"Engine Displacement in Liters\"}}, \"yaxis\": {\"title\": {\"text\": \"Highway MPG\"}}},\n",
       "                        {\"responsive\": true}\n",
       "                    ).then(function(){\n",
       "                            \n",
       "var gd = document.getElementById('5a25a6c2-30b3-45f8-a63f-e889ea83eeac');\n",
       "var x = new MutationObserver(function (mutations, observer) {{\n",
       "        var display = window.getComputedStyle(gd).display;\n",
       "        if (!display || display === 'none') {{\n",
       "            console.log([gd, 'removed!']);\n",
       "            Plotly.purge(gd);\n",
       "            observer.disconnect();\n",
       "        }}\n",
       "}});\n",
       "\n",
       "// Listen for the removal of the full notebook cells\n",
       "var notebookContainer = gd.closest('#notebook-container');\n",
       "if (notebookContainer) {{\n",
       "    x.observe(notebookContainer, {childList: true});\n",
       "}}\n",
       "\n",
       "// Listen for the clearing of the current output cell\n",
       "var outputEl = gd.closest('.output');\n",
       "if (outputEl) {{\n",
       "    x.observe(outputEl, {childList: true});\n",
       "}}\n",
       "\n",
       "                        })\n",
       "                };\n",
       "                });\n",
       "            </script>\n",
       "        </div>"
      ]
     },
     "metadata": {},
     "output_type": "display_data"
    }
   ],
   "source": [
    "'''Plotly's builtin smoothing function is very weak'''\n",
    "\n",
    "traces = []\n",
    "for cls in mpg['class'].unique():\n",
    "    traces.append(go.Scatter({\n",
    "        'mode' : 'markers',\n",
    "        'x' : mpg.displ[mpg['class'] == cls],\n",
    "        'y' : mpg.hwy[mpg['class'] == cls],\n",
    "        'name' : cls\n",
    "    }))\n",
    "\n",
    "    \n",
    "subcompact = mpg[mpg['class'] == 'subcompact'].sort_values(by='displ')\n",
    "\n",
    "traces.append(go.Scatter({\n",
    "    'mode' : 'lines',\n",
    "    'x' : subcompact.displ,\n",
    "    'y' : subcompact.hwy,\n",
    "    'name' : 'smoothing',\n",
    "    'line' : {\n",
    "        'shape' : 'spline',\n",
    "        'smoothing' : 1.3\n",
    "    }\n",
    "}))\n",
    "    \n",
    "fig = go.Figure(**{\n",
    "    'data' : traces,\n",
    "    'layout' : {\n",
    "        'title' : 'Engine Displacement in Liters vs Highway MPG',\n",
    "        'xaxis' : {\n",
    "            'title' : 'Engine Displacement in Liters',\n",
    "        },\n",
    "        'yaxis' : {\n",
    "            'title' : 'Highway MPG'\n",
    "        }\n",
    "    }\n",
    "})\n",
    "fig.show(renderer='png')\n"
   ]
  },
  {
   "cell_type": "code",
   "execution_count": null,
   "metadata": {
    "tags": [
     "ex",
     "name:stacked-bar-chart",
     "package:ggplot"
    ]
   },
   "outputs": [],
   "source": [
    "%%R -w 10 -h 10 -u in\n",
    "ggplot(data = diamonds) + \n",
    "  aes(x = cut, fill = clarity) +\n",
    "  geom_bar()"
   ]
  },
  {
   "cell_type": "code",
   "execution_count": null,
   "metadata": {
    "tags": [
     "ex",
     "name:stacked-bar-chart",
     "package:plotnine"
    ]
   },
   "outputs": [],
   "source": [
    "(ggplot(diamonds) + \n",
    "  aes(x=\"cut\", fill=\"clarity\") +\n",
    "  geom_bar())"
   ]
  },
  {
   "cell_type": "code",
   "execution_count": null,
   "metadata": {
    "tags": [
     "ex",
     "name:stacked-bar-chart",
     "package:pandas"
    ]
   },
   "outputs": [],
   "source": [
    "(diamonds\n",
    " .groupby(['cut', 'clarity'])\n",
    " .size()\n",
    " .unstack()\n",
    " .plot.bar(stacked=True)\n",
    ");"
   ]
  },
  {
   "cell_type": "code",
   "execution_count": null,
   "metadata": {
    "tags": [
     "ex",
     "name:stacked-bar-chart",
     "package:plotly"
    ]
   },
   "outputs": [],
   "source": [
    "traces = []\n",
    "newDiamond = diamonds.groupby(['cut','clarity']).size().unstack()\n",
    "for c in newDiamond.columns:\n",
    "    traces.append(go.Bar({\n",
    "        'x' : newDiamond.index,\n",
    "        'y' : newDiamond[c],\n",
    "        'name' : c\n",
    "    }))\n",
    "fig = go.Figure(**{\n",
    "    'data' : traces,\n",
    "    'layout' : {\n",
    "        'barmode' : 'stack',\n",
    "        'xaxis' : {\n",
    "            'title' : 'cut'\n",
    "        },        \n",
    "    }\n",
    "})\n",
    "fig.show(renderer=\"png\")"
   ]
  },
  {
   "cell_type": "code",
   "execution_count": null,
   "metadata": {
    "tags": [
     "ex",
     "name:dodged-bar-chart",
     "package:ggplot"
    ]
   },
   "outputs": [],
   "source": [
    "%%R -w 10 -h 10 -u in\n",
    "ggplot(data = diamonds) + \n",
    "  aes(x = cut, fill = clarity) +\n",
    "  geom_bar(position = \"dodge\")"
   ]
  },
  {
   "cell_type": "code",
   "execution_count": null,
   "metadata": {
    "tags": [
     "ex",
     "name:dodged-bar-chart",
     "package:plotnine"
    ]
   },
   "outputs": [],
   "source": [
    "(ggplot(diamonds) + \n",
    "  aes(x='cut', fill='clarity') +\n",
    "  geom_bar(position = \"dodge\"))\n"
   ]
  },
  {
   "cell_type": "code",
   "execution_count": null,
   "metadata": {
    "tags": [
     "ex",
     "name:dodged-bar-chart",
     "package:pandas"
    ]
   },
   "outputs": [],
   "source": [
    "(diamonds\n",
    " .groupby(['cut', 'clarity'])\n",
    " .size()\n",
    " .unstack()\n",
    " .plot.bar()\n",
    ");"
   ]
  },
  {
   "cell_type": "code",
   "execution_count": null,
   "metadata": {
    "tags": [
     "name:dodged-bar-chart",
     "package:plotly",
     "ex"
    ]
   },
   "outputs": [],
   "source": [
    "traces = []\n",
    "newDiamond = diamonds.groupby(['cut','clarity']).size().unstack()\n",
    "for c in newDiamond.columns:\n",
    "    traces.append(go.Bar({\n",
    "        'x' : newDiamond.index,\n",
    "        'y' : newDiamond[c],\n",
    "        'name' : c\n",
    "    }))\n",
    "fig = go.Figure(**{\n",
    "    'data' : traces,\n",
    "    'layout' : {\n",
    "        'barmode' : 'group',\n",
    "        'xaxis' : {\n",
    "            'title' : 'cut'\n",
    "        },        \n",
    "    }\n",
    "})\n",
    "fig.show(renderer=\"png\")"
   ]
  },
  {
   "cell_type": "code",
   "execution_count": null,
   "metadata": {
    "tags": [
     "ex",
     "name:stacked-kde",
     "package:ggplot"
    ]
   },
   "outputs": [],
   "source": [
    "%%R -w 10 -h 10 -u in\n",
    "ggplot(diamonds) +\n",
    "  aes(depth, fill = cut, colour = cut) +\n",
    "  geom_density(alpha = 0.1) +\n",
    "  xlim(55, 70)"
   ]
  },
  {
   "cell_type": "code",
   "execution_count": null,
   "metadata": {
    "tags": [
     "ex",
     "name:stacked-kde",
     "package:pandas"
    ]
   },
   "outputs": [],
   "source": [
    "\"\"\"I don't know whether Pandas can fill a KDE curve.\n",
    "\n",
    "This requires using some Matplotlib to get them to stack and to have a legend.\n",
    "\"\"\"\n",
    "fig, ax = plt.subplots()\n",
    "ax.set_xlim(55, 70)\n",
    "for cut in diamonds['cut'].unique():\n",
    "    s = diamonds[diamonds[\"cut\"] == cut]['depth']\n",
    "    s.plot.kde(ax=ax, label=cut)\n",
    "ax.legend()"
   ]
  },
  {
   "cell_type": "code",
   "execution_count": null,
   "metadata": {
    "tags": [
     "ex",
     "name:stacked-kde",
     "package:seaborn"
    ]
   },
   "outputs": [],
   "source": [
    "(sns\n",
    "  .FacetGrid(diamonds, \n",
    "             hue=\"cut\", \n",
    "             size=10, \n",
    "             xlim=(55, 70))\n",
    "  .map(sns.kdeplot, 'depth', shade=True)\n",
    " .add_legend()\n",
    ");"
   ]
  },
  {
   "cell_type": "code",
   "execution_count": null,
   "metadata": {
    "scrolled": false,
    "tags": [
     "ex",
     "name:stacked-kde",
     "package:plotnine"
    ]
   },
   "outputs": [],
   "source": [
    "\"\"\"`+ xlim(55, 70)` results in an error.\"\"\"\n",
    "(ggplot(diamonds) +\n",
    "  aes('depth', fill='cut', color='cut') +\n",
    "  geom_density(alpha=0.1))"
   ]
  },
  {
   "cell_type": "code",
   "execution_count": null,
   "metadata": {
    "tags": [
     "ex",
     "name:stacked-kde",
     "package:plotly"
    ]
   },
   "outputs": [],
   "source": [
    "fig = FF.create_distplot(\n",
    "                            [diamonds['depth'][diamonds['cut'] == c].values for c in diamonds.cut.unique()], \n",
    "                            diamonds.cut.unique(), \n",
    "                            show_hist=False,\n",
    "                            show_rug=False\n",
    "                           )\n",
    "for d in fig['data']:\n",
    "    d.update({'fill' : 'tozeroy'})\n",
    "\n",
    "fig.show(renderer=\"png\")"
   ]
  },
  {
   "cell_type": "code",
   "execution_count": null,
   "metadata": {
    "tags": [
     "ex",
     "name:timeseries",
     "package:ggplot"
    ]
   },
   "outputs": [],
   "source": [
    "%%R -i ts -w 10 -h 10 -u in \n",
    "ggplot(ts) + aes(date, value) + geom_line()"
   ]
  },
  {
   "cell_type": "code",
   "execution_count": null,
   "metadata": {
    "tags": [
     "ex",
     "name:timeseries",
     "package:plotnine"
    ]
   },
   "outputs": [],
   "source": [
    "(ggplot(ts) \n",
    " + aes(\"date\", \"value\") \n",
    " + geom_line())"
   ]
  },
  {
   "cell_type": "code",
   "execution_count": null,
   "metadata": {
    "tags": [
     "ex",
     "name:timeseries",
     "package:pandas"
    ]
   },
   "outputs": [],
   "source": [
    "ts.set_index('date')['value'].plot()"
   ]
  },
  {
   "cell_type": "code",
   "execution_count": null,
   "metadata": {
    "tags": [
     "ex",
     "name:timeseries",
     "package:plotly"
    ]
   },
   "outputs": [],
   "source": [
    "fig = go.Figure(layout={'xaxis' : { 'title' : 'date'}})\n",
    "scatter = go.Scatter({\n",
    "    'mode' :'lines',\n",
    "    'x' : ts.date,\n",
    "    'y' : ts.value\n",
    "})\n",
    "fig.add_trace(scatter)\n",
    "fig.show(renderer=\"png\")"
   ]
  }
 ],
 "metadata": {
  "celltoolbar": "Tags",
  "kernelspec": {
   "display_name": "Python 3",
   "language": "python",
   "name": "python3"
  },
  "language_info": {
   "codemirror_mode": {
    "name": "ipython",
    "version": 3
   },
   "file_extension": ".py",
   "mimetype": "text/x-python",
   "name": "python",
   "nbconvert_exporter": "python",
   "pygments_lexer": "ipython3",
   "version": "3.7.0"
  }
 },
 "nbformat": 4,
 "nbformat_minor": 1
}
